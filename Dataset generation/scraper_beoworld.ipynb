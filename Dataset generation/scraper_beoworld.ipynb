{
 "cells": [
  {
   "cell_type": "markdown",
   "metadata": {},
   "source": [
    "## Webscraping code\n",
    "A webcrawler to extract all of the data from Beoworld"
   ]
  },
  {
   "cell_type": "code",
   "execution_count": 1,
   "metadata": {},
   "outputs": [],
   "source": [
    "import requests\n",
    "from bs4 import BeautifulSoup\n",
    "import time\n",
    "URL = \"https://support.bang-olufsen.com/hc/en-us/articles/360043398612-How-do-I-add-my-Beoplay-E8-to-the-Bang-Olufsen-app\"\n"
   ]
  },
  {
   "cell_type": "code",
   "execution_count": 131,
   "metadata": {},
   "outputs": [],
   "source": [
    "def retrieve_all_posts(url):\n",
    "    page = requests.get(url)\n",
    "    soup = BeautifulSoup(page.content, \"html.parser\")\n",
    "\n",
    "    \"\"\" Retrieves all post information form a soup object \"\"\"\n",
    "    \n",
    "    # Getting post header\n",
    "    header = soup.select('h1[class=\"entry-title\"]')[0].text\n",
    "\n",
    "    # Finding post tags\n",
    "    tags = soup.select('div[class=\"bbp-topic-tags\"]')[0]\n",
    "    tags_list = [a_tag.text for a_tag in tags.find_all('a')] if tags else []\n",
    "    \n",
    "    # Following body retrieves text from data. \n",
    "    #########################\n",
    "    \n",
    "    forum_body = soup.find('ul', attrs={'class': 'forums bbp-replies'})\n",
    "    posts = soup.select('div[class*=\"loop-item\"]')\n",
    "    \n",
    "    all_posts = []\n",
    "    for i, post in enumerate(posts):\n",
    "        author = post.select('span[class=\"bbp-author-name\"]')[0].text\n",
    "        role = post.select('div[class=\"bbp-author-role\"]')[0].text\n",
    "        \n",
    "        # Remove all <blockquote> elements from the post, as there are instances where they quote previous comments\n",
    "        for blockquote in post.find_all('blockquote'):\n",
    "            blockquote.decompose()\n",
    "\n",
    "\n",
    "        # Concatenate all texts from a post message\n",
    "        text = \" \".join(p.text for p in post.select('p'))\n",
    "\n",
    "\n",
    "        full_post = {\n",
    "            'number': i,\n",
    "            'author': author,\n",
    "            'role': role,\n",
    "            'text': text\n",
    "            }\n",
    "        all_posts.append(full_post)\n",
    "\n",
    "\n",
    "    forum_data = {\n",
    "            'header_name': header,\n",
    "            'url': url, \n",
    "            'tags:': tags_list,\n",
    "            'posts': all_posts\n",
    "        }\n",
    "    \n",
    "    return forum_data\n",
    "\n",
    "\n",
    "def link_crawler(master_url, page_nr=1):\n",
    "    \"\"\"\n",
    "        Gets all post_links for a given forum.\n",
    "    \"\"\"         \n",
    "    \n",
    "    link_list = []\n",
    "    while True:\n",
    "        url = f'{master_url}{page_nr}'\n",
    "        page = requests.get(url)\n",
    "        soup = BeautifulSoup(page.content, \"html.parser\")\n",
    "        \n",
    "        posts = soup.select('a[class=\"bbp-topic-permalink\"]')\n",
    "        \n",
    "        # breaking loop when iterated over all site pages\n",
    "        if not posts or len(posts) == 0:\n",
    "            print(\"no posts on page\")\n",
    "            break \n",
    "        \n",
    "        \n",
    "        for post_nr in posts:\n",
    "            link = post_nr.get('href')\n",
    "            link_list.append(link)\n",
    "        \n",
    "        page_nr += 1 \n",
    "\n",
    "        # simple monitoring\n",
    "        if page_nr % 10 == 0:\n",
    "            print(str(page_nr) + \" scraped\") \n",
    "\n",
    "    return link_list        \n",
    "\n",
    "        \n",
    "\n",
    "def write_links_to_file(link_list, file_name='links.txt'):\n",
    "    \"\"\"\n",
    "    Writes each link from the link_list to a new line in a specified file.\n",
    "    \"\"\"\n",
    "    with open(file_name, 'w') as file:\n",
    "        for link in link_list:\n",
    "            file.write(f\"{link}\\n\")\n",
    "\n",
    "\n",
    "def load_links_from_file(file_name):\n",
    "    with open(file_name, 'r') as file:\n",
    "        links = [line.strip() for line in file.readlines()]\n",
    "    return links\n",
    "\n",
    "\n",
    "def writer():\n",
    "    \"\"\" \n",
    "        Writes all the records  \n",
    "    \"\"\"\n",
    "\n",
    "\n"
   ]
  },
  {
   "cell_type": "code",
   "execution_count": 132,
   "metadata": {},
   "outputs": [
    {
     "name": "stdout",
     "output_type": "stream",
     "text": [
      "10 scraped\n",
      "20 scraped\n",
      "30 scraped\n",
      "40 scraped\n",
      "50 scraped\n",
      "60 scraped\n",
      "70 scraped\n",
      "no posts on page\n",
      "10 scraped\n",
      "no posts on page\n"
     ]
    }
   ],
   "source": [
    "# getting all links\n",
    "forum_links = {\"general_discussion\":\"https://forum.beoworld.org/forums/forum/general-forum/general-discussion-questions/page/\", \"workbench\":\"https://forum.beoworld.org/forums/forum/products-related-forums/the-workbench/page/\"}\n",
    "for forum_name, root_link in forum_links.items():\n",
    "    full_link_list = link_crawler(root_link)\n",
    "    write_links_to_file(full_link_list, f\"{forum_name}.txt\")"
   ]
  },
  {
   "cell_type": "code",
   "execution_count": 105,
   "metadata": {},
   "outputs": [],
   "source": [
    "url = \"https://forum.beoworld.org/forums/topic/beosound-core-connectivity-and-alternatives/\" \n",
    "posts = retrieve_all_posts(url)\n",
    "\n",
    "\n",
    "\n",
    "link_crawler()\n",
    "\n"
   ]
  },
  {
   "cell_type": "markdown",
   "metadata": {},
   "source": [
    "#  BEOWORLD SUPPO"
   ]
  },
  {
   "cell_type": "code",
   "execution_count": 19,
   "metadata": {},
   "outputs": [],
   "source": [
    "from selenium import webdriver\n",
    "from selenium.webdriver.common.by import By\n",
    "\n",
    "URL = \"https://support.bang-olufsen.com/hc/en-us/articles/360043398612-How-do-I-add-my-Beoplay-E8-to-the-Bang-Olufsen-app\"\n",
    "red = \"https://www.reddit.com/r/BangandOlufsen/comments/1b2s62m/beoplay_ex_is_nearly_perfect/\"\n",
    "driver = webdriver.Chrome()\n",
    "driver.get(red)\n",
    "# cookie_button = driver.find_element(By.ID, 'acceptButton')\n",
    "# cookie_button.click()\n",
    "# driver.get(\"https://support.bang-olufsen.com/hc/en-us/sections/360007312332-Beoplay-E8\")\n",
    "# driver.implicitly_wait(2)\n",
    "# driver.get(\"https://support.bang-olufsen.com/hc/en-us/articles/360020150597-Can-I-use-my-Beosound-Explore-outdoors\")\n"
   ]
  }
 ],
 "metadata": {
  "kernelspec": {
   "display_name": "myenv",
   "language": "python",
   "name": "python3"
  },
  "language_info": {
   "codemirror_mode": {
    "name": "ipython",
    "version": 3
   },
   "file_extension": ".py",
   "mimetype": "text/x-python",
   "name": "python",
   "nbconvert_exporter": "python",
   "pygments_lexer": "ipython3",
   "version": "3.10.11"
  }
 },
 "nbformat": 4,
 "nbformat_minor": 2
}
