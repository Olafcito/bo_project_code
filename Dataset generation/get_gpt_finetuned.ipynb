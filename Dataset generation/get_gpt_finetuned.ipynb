{
 "cells": [
  {
   "cell_type": "markdown",
   "metadata": {},
   "source": [
    "## This code displays the function to run finetuned GPT model"
   ]
  },
  {
   "cell_type": "code",
   "execution_count": 1,
   "metadata": {},
   "outputs": [],
   "source": [
    "import openai\n",
    "import time \n",
    "def get_gpt(prompt):\n",
    "    openai.api_key = 'insert_api_key'\n",
    "\n",
    "    attempts = 0\n",
    "    max_attempts = 5  # Max attempts before giving up\n",
    "    backoff_time = 1  # Initial backoff time in seconds\n",
    "\n",
    "    while attempts < max_attempts:\n",
    "        try:\n",
    "            completion = openai.ChatCompletion.create(\n",
    "                model=\"ft:gpt-3.5-turbo-0125:personal:master:9Bfq5w4r\", #\n",
    "                messages=[{\"role\": \"user\", \"content\": prompt}],\n",
    "                max_tokens=2000,\n",
    "                temperature=1)\n",
    "            resp = completion.choices[0].message[\"content\"]\n",
    "            return resp\n",
    "\n",
    "        except openai.error.APIError as e:\n",
    "            # Handle API-specific errors here\n",
    "            print(f\"OpenAI API returned an API Error: {e}\")\n",
    "            break  # Stop after an API error\n",
    "        except Exception as e:\n",
    "            # This catches any other exceptions, including connection errors\n",
    "            print(f\"An error occurred: {e}\")\n",
    "            attempts += 1\n",
    "            time.sleep(backoff_time)\n",
    "            backoff_time *= 2  # Exponential backoff\n",
    "\n",
    "    # Return a default response or raise an error after max attempts\n",
    "    raise Exception(\"Failed to get a response from OpenAI API after multiple attempts.\")"
   ]
  }
 ],
 "metadata": {
  "kernelspec": {
   "display_name": "base",
   "language": "python",
   "name": "python3"
  },
  "language_info": {
   "codemirror_mode": {
    "name": "ipython",
    "version": 3
   },
   "file_extension": ".py",
   "mimetype": "text/x-python",
   "name": "python",
   "nbconvert_exporter": "python",
   "pygments_lexer": "ipython3",
   "version": "3.9.7"
  }
 },
 "nbformat": 4,
 "nbformat_minor": 2
}
